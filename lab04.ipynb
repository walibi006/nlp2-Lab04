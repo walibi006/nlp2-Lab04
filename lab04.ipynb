{
 "cells": [
  {
   "attachments": {},
   "cell_type": "markdown",
   "metadata": {},
   "source": [
    "## Introduction to Natural Language Processing 2 Lab04\n",
    "\n",
    "Authors:\n",
    "- Jonathan Poelger\n",
    "- Ethan Machavoine\n",
    "- Aurelien Rouxel"
   ]
  },
  {
   "cell_type": "code",
   "execution_count": null,
   "metadata": {},
   "outputs": [],
   "source": []
  }
 ],
 "metadata": {
  "language_info": {
   "name": "python"
  },
  "orig_nbformat": 4
 },
 "nbformat": 4,
 "nbformat_minor": 2
}
